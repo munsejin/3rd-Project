{
 "cells": [
  {
   "cell_type": "code",
   "execution_count": 4,
   "metadata": {
    "scrolled": false
   },
   "outputs": [
    {
     "data": {
      "text/plain": [
       "(0.00415801793769892, 99.9958419820623)"
      ]
     },
     "execution_count": 4,
     "metadata": {},
     "output_type": "execute_result"
    }
   ],
   "source": [
    "import librosa\n",
    "from collections import Counter\n",
    "from flask import Flask, request, abort, jsonify, send_from_directory\n",
    "import werkzeug\n",
    "import keras.models\n",
    "import numpy as np\n",
    "import scipy.misc\n",
    "import wave\n",
    "\n",
    "RATE = 24000\n",
    "N_MFCC = 13\n",
    "COL_SIZE = 30\n",
    "model = keras.models.load_model('model_5000_1610_2.h5')\n",
    "\n",
    "def get_wav(f):\n",
    "    y, sr = librosa.load(f)\n",
    "    return librosa.core.resample(y=y,orig_sr=sr,target_sr=RATE, scale=True)\n",
    "\n",
    "def to_mfcc(wav):\n",
    "    return librosa.feature.mfcc(y=wav, sr=RATE, n_mfcc=N_MFCC)\n",
    "\n",
    "def segment_one(mfcc):\n",
    "    segments = []\n",
    "    for start in range(0, int(mfcc.shape[1] / COL_SIZE)):\n",
    "        segments.append(mfcc[:, start * COL_SIZE:(start + 1) * COL_SIZE])\n",
    "    return(np.array(segments))\n",
    "\n",
    "def predict_class_audio(MFCCs, model):\n",
    "    MFCCs = MFCCs.reshape(MFCCs.shape[0],MFCCs.shape[1],MFCCs.shape[2],1)\n",
    "    y_pre = model.predict_proba(MFCCs,verbose=0)\n",
    "    return y_pre\n",
    "\n",
    "def cal(y_pre):\n",
    "    sum_s=0\n",
    "    sum_j=0;\n",
    "    for s,j in y_pre:\n",
    "        sum_s+=s\n",
    "        sum_j+=j\n",
    "    t = sum_s+sum_j\n",
    "    seoul = sum_s/t*100\n",
    "    jeon = sum_j/t*100\n",
    "    return seoul,jeon\n",
    "\n",
    "def predict(f):\n",
    "    get = get_wav(f)    \n",
    "    X = to_mfcc(get)\n",
    "    X = segment_one(X)\n",
    "    y_pre = predict_class_audio(X, model)\n",
    "    y0, y1 = cal(y_pre)\n",
    "    return y0,y1\n",
    "\n",
    "\n",
    "predict(\"mv01_t01_s01.wav\")"
   ]
  },
  {
   "cell_type": "code",
   "execution_count": 5,
   "metadata": {
    "scrolled": false
   },
   "outputs": [
    {
     "name": "stdout",
     "output_type": "stream",
     "text": [
      " * Serving Flask app \"__main__\" (lazy loading)\n",
      " * Environment: production\n",
      "   WARNING: This is a development server. Do not use it in a production deployment.\n",
      "   Use a production WSGI server instead.\n",
      " * Debug mode: off\n"
     ]
    },
    {
     "name": "stderr",
     "output_type": "stream",
     "text": [
      "I0819 09:47:01.732700  4524 _internal.py:122]  * Running on http://0.0.0.0:5000/ (Press CTRL+C to quit)\n",
      "I0819 09:47:18.491916  6156 _internal.py:122] 192.168.0.180 - - [19/Aug/2019 09:47:18] \"\u001b[37mPOST / HTTP/1.1\u001b[0m\" 200 -\n",
      "I0819 09:47:36.851229 11132 _internal.py:122] 192.168.0.180 - - [19/Aug/2019 09:47:36] \"\u001b[37mPOST / HTTP/1.1\u001b[0m\" 200 -\n",
      "I0819 09:48:42.460972 11148 _internal.py:122] 192.168.0.186 - - [19/Aug/2019 09:48:42] \"\u001b[37mPOST / HTTP/1.1\u001b[0m\" 200 -\n",
      "I0819 09:50:26.822364  5408 _internal.py:122] 192.168.0.177 - - [19/Aug/2019 09:50:26] \"\u001b[37mPOST / HTTP/1.1\u001b[0m\" 200 -\n",
      "I0819 09:51:52.664318 10336 _internal.py:122] 192.168.0.107 - - [19/Aug/2019 09:51:52] \"\u001b[37mPOST / HTTP/1.1\u001b[0m\" 200 -\n",
      "I0819 09:56:48.348053  2176 _internal.py:122] 192.168.0.107 - - [19/Aug/2019 09:56:48] \"\u001b[37mPOST / HTTP/1.1\u001b[0m\" 200 -\n",
      "I0819 09:56:50.955718   424 _internal.py:122] 192.168.0.107 - - [19/Aug/2019 09:56:50] \"\u001b[37mPOST / HTTP/1.1\u001b[0m\" 200 -\n",
      "I0819 10:28:44.011476  6572 _internal.py:122] 192.168.0.186 - - [19/Aug/2019 10:28:44] \"\u001b[37mPOST / HTTP/1.1\u001b[0m\" 200 -\n",
      "I0819 10:29:20.941365 10956 _internal.py:122] 192.168.0.186 - - [19/Aug/2019 10:29:20] \"\u001b[37mPOST / HTTP/1.1\u001b[0m\" 200 -\n",
      "I0819 10:29:26.989178  6784 _internal.py:122] 192.168.0.186 - - [19/Aug/2019 10:29:26] \"\u001b[37mPOST / HTTP/1.1\u001b[0m\" 200 -\n",
      "I0819 10:30:27.554218  1776 _internal.py:122] 192.168.0.180 - - [19/Aug/2019 10:30:27] \"\u001b[37mPOST / HTTP/1.1\u001b[0m\" 200 -\n",
      "I0819 10:31:19.709600  6168 _internal.py:122] 192.168.0.180 - - [19/Aug/2019 10:31:19] \"\u001b[37mPOST / HTTP/1.1\u001b[0m\" 200 -\n",
      "I0819 10:31:32.007580  2376 _internal.py:122] 192.168.0.180 - - [19/Aug/2019 10:31:32] \"\u001b[37mPOST / HTTP/1.1\u001b[0m\" 200 -\n",
      "I0819 10:31:34.804081  5344 _internal.py:122] 192.168.0.180 - - [19/Aug/2019 10:31:34] \"\u001b[37mPOST / HTTP/1.1\u001b[0m\" 200 -\n"
     ]
    }
   ],
   "source": [
    "cnt=0\n",
    "app = Flask(__name__)\n",
    "@app.route('/', methods = ['POST'])\n",
    "def uploadfile():\n",
    "    f = request.files['file']\n",
    "    pcmdata = f.read()\n",
    "    \n",
    "    fName='record{}.wav'.format(count())\n",
    "    with wave.open(fName, 'wb') as wav:\n",
    "        wav.setparams((1, 2, 16000, 0, 'NONE', 'NONE'))\n",
    "        wav.writeframes(pcmdata)\n",
    "    try:\n",
    "        jeon,seoul = predict(fName)\n",
    "    except:\n",
    "        return \"녹음이 너무 짧습니다.\"\n",
    "    \n",
    "    result=\"서울 억양은 {0:0.2f}% \\n전라도 억양은 {1:0.2f}% 입니다.\".format(seoul,jeon)\n",
    "    return result\n",
    "\n",
    "def count():\n",
    "    global cnt\n",
    "    cnt = cnt+1\n",
    "    return cnt\n",
    "\n",
    "app.run(host=\"0.0.0.0\", port=5000, debug=False)"
   ]
  }
 ],
 "metadata": {
  "kernelspec": {
   "display_name": "Python 3",
   "language": "python",
   "name": "python3"
  },
  "language_info": {
   "codemirror_mode": {
    "name": "ipython",
    "version": 3
   },
   "file_extension": ".py",
   "mimetype": "text/x-python",
   "name": "python",
   "nbconvert_exporter": "python",
   "pygments_lexer": "ipython3",
   "version": "3.7.4"
  }
 },
 "nbformat": 4,
 "nbformat_minor": 2
}
